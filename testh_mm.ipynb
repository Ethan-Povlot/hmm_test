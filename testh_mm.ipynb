{
 "cells": [
  {
   "cell_type": "code",
   "execution_count": null,
   "metadata": {},
   "outputs": [],
   "source": [
    "from numpy.lib.stride_tricks import sliding_window_view\n",
    "\n",
    "def create_dataset_vectorized(df, lookback_minutes=30):\n",
    "    data = df.values\n",
    "    dataX = sliding_window_view(data, window_shape=(lookback_minutes, data.shape[1]))\n",
    "    dataY = data[lookback_minutes:]\n",
    "    return dataX, dataY\n",
    "\n",
    "# Assume df is your DataFrame where each row represents a minute\n",
    "df = pd.read_csv(\"your_data_file.csv\")  # Load your data here\n",
    "X, Y = create_dataset_vectorized(df, lookback_minutes=30)\n"
   ]
  },
  {
   "cell_type": "code",
   "execution_count": null,
   "metadata": {},
   "outputs": [],
   "source": [
    "import numpy as np\n",
    "from keras.models import Sequential\n",
    "from keras.layers import LSTM, Dense\n",
    "\n",
    "# Define constants\n",
    "FEATURES_PER_MINUTE = 25\n",
    "LOOKBACK_MINUTES = 30\n",
    "INPUT_SHAPE = (LOOKBACK_MINUTES, FEATURES_PER_MINUTE)\n",
    "\n",
    "# Initialize the model\n",
    "model = Sequential()\n",
    "\n",
    "# Add LSTM layer with 50 units\n",
    "# return_sequences=True makes LSTM layer return full sequence instead of last output only\n",
    "model.add(LSTM(50, return_sequences=True, input_shape=INPUT_SHAPE))\n",
    "\n",
    "# You can add more LSTM or Dense layers here if needed\n",
    "\n",
    "# Add a Dense layer with single unit as final layer\n",
    "# This assumes a regression task; for classification, you might need a different activation and number of units\n",
    "model.add(Dense(1))\n",
    "\n",
    "# Compile the model\n",
    "model.compile(optimizer='rmsprop', loss='mse')  # adjust optimizer and loss as needed\n"
   ]
  },
  {
   "cell_type": "code",
   "execution_count": null,
   "metadata": {},
   "outputs": [],
   "source": [
    "import tensorflow as tf\n",
    "\n",
    "def create_lstm_model(input_shape, num_lstm_units=64, num_dense_units=32, dropout_rate=0.2):\n",
    "    model = tf.keras.Sequential()\n",
    "    model.add(tf.keras.layers.LSTM(num_lstm_units, input_shape=input_shape))\n",
    "    model.add(tf.keras.layers.Dropout(dropout_rate))\n",
    "    model.add(tf.keras.layers.Dense(num_dense_units, activation='relu'))\n",
    "    model.add(tf.keras.layers.Dropout(dropout_rate))\n",
    "    model.add(tf.keras.layers.Dense(1, activation='linear'))  # Assuming you're doing regression\n",
    "\n",
    "    model.compile(loss='mean_squared_error', optimizer='adam')\n",
    "    return model\n",
    "\n",
    "# Assuming your input shape is (sequence_length, num_features)\n",
    "input_shape = (sequence_length, num_features)\n",
    "\n",
    "model = create_lstm_model(input_shape)\n"
   ]
  },
  {
   "cell_type": "code",
   "execution_count": null,
   "metadata": {},
   "outputs": [],
   "source": [
    "import tensorflow as tf\n",
    "\n",
    "def create_time_series_transformer(input_shape, num_transformer_units=64, num_dense_units=32, num_heads=4, dropout_rate=0.2):\n",
    "    input_layer = tf.keras.layers.Input(shape=input_shape)\n",
    "    transformer_output = tf.keras.layers.MultiHeadAttention(key_dim=num_transformer_units, num_heads=num_heads)(input_layer, input_layer)\n",
    "    transformer_output = tf.keras.layers.Dropout(dropout_rate)(transformer_output)\n",
    "    transformer_output = tf.keras.layers.LayerNormalization(epsilon=1e-6)(transformer_output)\n",
    "    transformer_output = tf.keras.layers.GlobalAveragePooling1D()(transformer_output)\n",
    "    \n",
    "    dense_layer = tf.keras.layers.Dense(num_dense_units, activation='relu')(transformer_output)\n",
    "    dropout_layer = tf.keras.layers.Dropout(dropout_rate)(dense_layer)\n",
    "    output_layer = tf.keras.layers.Dense(1, activation='linear')(dropout_layer)\n",
    "    \n",
    "    model = tf.keras.Model(inputs=input_layer, outputs=output_layer)\n",
    "    model.compile(loss='mean_squared_error', optimizer='adam')\n",
    "    \n",
    "    return model\n",
    "\n",
    "# Assuming your input shape is (sequence_length, num_features)\n",
    "input_shape = (sequence_length, num_features)\n",
    "\n",
    "model = create_time_series_transformer(input_shape)\n"
   ]
  }
 ],
 "metadata": {
  "kernelspec": {
   "display_name": "Python 3",
   "language": "python",
   "name": "python3"
  },
  "language_info": {
   "name": "python",
   "version": "3.11.1"
  },
  "orig_nbformat": 4
 },
 "nbformat": 4,
 "nbformat_minor": 2
}
